{
 "cells": [
  {
   "cell_type": "code",
   "execution_count": 2,
   "metadata": {},
   "outputs": [
    {
     "data": {
      "text/plain": [
       "'\\nCreated on Sat Nov 17 10:14:00 2018\\n\\n@author: alexandremendes\\n'"
      ]
     },
     "execution_count": 2,
     "metadata": {},
     "output_type": "execute_result"
    }
   ],
   "source": [
    "\"\"\"\n",
    "Created on Sat Nov 17 10:14:00 2018\n",
    "\n",
    "@author: alexandremendes\n",
    "\"\"\""
   ]
  },
  {
   "cell_type": "markdown",
   "metadata": {},
   "source": [
    "## Library"
   ]
  },
  {
   "cell_type": "code",
   "execution_count": 3,
   "metadata": {},
   "outputs": [],
   "source": [
    "import numpy as np\n",
    "from statsmodels.api import OLS\n",
    "import pandas as pd"
   ]
  },
  {
   "cell_type": "markdown",
   "metadata": {},
   "source": [
    "## Dataframe"
   ]
  },
  {
   "cell_type": "code",
   "execution_count": 4,
   "metadata": {},
   "outputs": [],
   "source": [
    "df = pd.read_excel('./Harmon.xlsx')"
   ]
  },
  {
   "cell_type": "code",
   "execution_count": 27,
   "metadata": {},
   "outputs": [
    {
     "data": {
      "text/html": [
       "<div>\n",
       "<style scoped>\n",
       "    .dataframe tbody tr th:only-of-type {\n",
       "        vertical-align: middle;\n",
       "    }\n",
       "\n",
       "    .dataframe tbody tr th {\n",
       "        vertical-align: top;\n",
       "    }\n",
       "\n",
       "    .dataframe thead th {\n",
       "        text-align: right;\n",
       "    }\n",
       "</style>\n",
       "<table border=\"1\" class=\"dataframe\">\n",
       "  <thead>\n",
       "    <tr style=\"text-align: right;\">\n",
       "      <th></th>\n",
       "      <th>TIME</th>\n",
       "      <th>Sales</th>\n",
       "      <th>CP</th>\n",
       "      <th>CP(t-1)</th>\n",
       "      <th>CP(t-2)</th>\n",
       "      <th>DA</th>\n",
       "      <th>DA(t-1)</th>\n",
       "      <th>DA(t-2)</th>\n",
       "      <th>SeasIndx</th>\n",
       "    </tr>\n",
       "  </thead>\n",
       "  <tbody>\n",
       "    <tr>\n",
       "      <th>0</th>\n",
       "      <td>1</td>\n",
       "      <td>425075</td>\n",
       "      <td>75253</td>\n",
       "      <td>0</td>\n",
       "      <td>0</td>\n",
       "      <td>457732</td>\n",
       "      <td>352872</td>\n",
       "      <td>304004</td>\n",
       "      <td>113</td>\n",
       "    </tr>\n",
       "    <tr>\n",
       "      <th>1</th>\n",
       "      <td>2</td>\n",
       "      <td>315305</td>\n",
       "      <td>15036</td>\n",
       "      <td>75253</td>\n",
       "      <td>0</td>\n",
       "      <td>254396</td>\n",
       "      <td>457732</td>\n",
       "      <td>352872</td>\n",
       "      <td>98</td>\n",
       "    </tr>\n",
       "    <tr>\n",
       "      <th>2</th>\n",
       "      <td>3</td>\n",
       "      <td>367286</td>\n",
       "      <td>134440</td>\n",
       "      <td>15036</td>\n",
       "      <td>75253</td>\n",
       "      <td>259952</td>\n",
       "      <td>254396</td>\n",
       "      <td>457732</td>\n",
       "      <td>102</td>\n",
       "    </tr>\n",
       "    <tr>\n",
       "      <th>3</th>\n",
       "      <td>4</td>\n",
       "      <td>429432</td>\n",
       "      <td>119740</td>\n",
       "      <td>134440</td>\n",
       "      <td>15036</td>\n",
       "      <td>267368</td>\n",
       "      <td>259952</td>\n",
       "      <td>254396</td>\n",
       "      <td>107</td>\n",
       "    </tr>\n",
       "    <tr>\n",
       "      <th>4</th>\n",
       "      <td>5</td>\n",
       "      <td>347874</td>\n",
       "      <td>135590</td>\n",
       "      <td>119740</td>\n",
       "      <td>134440</td>\n",
       "      <td>158504</td>\n",
       "      <td>267368</td>\n",
       "      <td>259952</td>\n",
       "      <td>119</td>\n",
       "    </tr>\n",
       "    <tr>\n",
       "      <th>5</th>\n",
       "      <td>6</td>\n",
       "      <td>435529</td>\n",
       "      <td>189636</td>\n",
       "      <td>135590</td>\n",
       "      <td>119740</td>\n",
       "      <td>430012</td>\n",
       "      <td>158504</td>\n",
       "      <td>267368</td>\n",
       "      <td>104</td>\n",
       "    </tr>\n",
       "    <tr>\n",
       "      <th>6</th>\n",
       "      <td>7</td>\n",
       "      <td>299403</td>\n",
       "      <td>9308</td>\n",
       "      <td>189636</td>\n",
       "      <td>135590</td>\n",
       "      <td>388516</td>\n",
       "      <td>430012</td>\n",
       "      <td>158504</td>\n",
       "      <td>107</td>\n",
       "    </tr>\n",
       "    <tr>\n",
       "      <th>7</th>\n",
       "      <td>8</td>\n",
       "      <td>296505</td>\n",
       "      <td>41099</td>\n",
       "      <td>9308</td>\n",
       "      <td>189636</td>\n",
       "      <td>225616</td>\n",
       "      <td>388516</td>\n",
       "      <td>430012</td>\n",
       "      <td>81</td>\n",
       "    </tr>\n",
       "    <tr>\n",
       "      <th>8</th>\n",
       "      <td>9</td>\n",
       "      <td>426701</td>\n",
       "      <td>9391</td>\n",
       "      <td>41099</td>\n",
       "      <td>9308</td>\n",
       "      <td>1042304</td>\n",
       "      <td>225616</td>\n",
       "      <td>388516</td>\n",
       "      <td>113</td>\n",
       "    </tr>\n",
       "    <tr>\n",
       "      <th>9</th>\n",
       "      <td>10</td>\n",
       "      <td>329722</td>\n",
       "      <td>942</td>\n",
       "      <td>9391</td>\n",
       "      <td>41099</td>\n",
       "      <td>974092</td>\n",
       "      <td>1042304</td>\n",
       "      <td>225616</td>\n",
       "      <td>97</td>\n",
       "    </tr>\n",
       "    <tr>\n",
       "      <th>10</th>\n",
       "      <td>11</td>\n",
       "      <td>281783</td>\n",
       "      <td>1818</td>\n",
       "      <td>942</td>\n",
       "      <td>9391</td>\n",
       "      <td>301892</td>\n",
       "      <td>974092</td>\n",
       "      <td>1042304</td>\n",
       "      <td>95</td>\n",
       "    </tr>\n",
       "    <tr>\n",
       "      <th>11</th>\n",
       "      <td>12</td>\n",
       "      <td>166391</td>\n",
       "      <td>672</td>\n",
       "      <td>1818</td>\n",
       "      <td>942</td>\n",
       "      <td>76148</td>\n",
       "      <td>301892</td>\n",
       "      <td>974092</td>\n",
       "      <td>65</td>\n",
       "    </tr>\n",
       "    <tr>\n",
       "      <th>12</th>\n",
       "      <td>13</td>\n",
       "      <td>629404</td>\n",
       "      <td>548704</td>\n",
       "      <td>672</td>\n",
       "      <td>1818</td>\n",
       "      <td>0</td>\n",
       "      <td>76148</td>\n",
       "      <td>301892</td>\n",
       "      <td>113</td>\n",
       "    </tr>\n",
       "    <tr>\n",
       "      <th>13</th>\n",
       "      <td>14</td>\n",
       "      <td>263467</td>\n",
       "      <td>52819</td>\n",
       "      <td>548704</td>\n",
       "      <td>672</td>\n",
       "      <td>315196</td>\n",
       "      <td>0</td>\n",
       "      <td>76148</td>\n",
       "      <td>98</td>\n",
       "    </tr>\n",
       "    <tr>\n",
       "      <th>14</th>\n",
       "      <td>15</td>\n",
       "      <td>398320</td>\n",
       "      <td>2793</td>\n",
       "      <td>52819</td>\n",
       "      <td>548704</td>\n",
       "      <td>703624</td>\n",
       "      <td>315196</td>\n",
       "      <td>0</td>\n",
       "      <td>102</td>\n",
       "    </tr>\n",
       "    <tr>\n",
       "      <th>15</th>\n",
       "      <td>16</td>\n",
       "      <td>376569</td>\n",
       "      <td>27749</td>\n",
       "      <td>2793</td>\n",
       "      <td>52819</td>\n",
       "      <td>198464</td>\n",
       "      <td>703624</td>\n",
       "      <td>315196</td>\n",
       "      <td>107</td>\n",
       "    </tr>\n",
       "    <tr>\n",
       "      <th>16</th>\n",
       "      <td>17</td>\n",
       "      <td>444404</td>\n",
       "      <td>21887</td>\n",
       "      <td>27749</td>\n",
       "      <td>2793</td>\n",
       "      <td>478880</td>\n",
       "      <td>198464</td>\n",
       "      <td>703624</td>\n",
       "      <td>119</td>\n",
       "    </tr>\n",
       "    <tr>\n",
       "      <th>17</th>\n",
       "      <td>18</td>\n",
       "      <td>386986</td>\n",
       "      <td>1110</td>\n",
       "      <td>21887</td>\n",
       "      <td>27749</td>\n",
       "      <td>457172</td>\n",
       "      <td>478880</td>\n",
       "      <td>198464</td>\n",
       "      <td>104</td>\n",
       "    </tr>\n",
       "    <tr>\n",
       "      <th>18</th>\n",
       "      <td>19</td>\n",
       "      <td>414314</td>\n",
       "      <td>436</td>\n",
       "      <td>1110</td>\n",
       "      <td>21887</td>\n",
       "      <td>709480</td>\n",
       "      <td>457172</td>\n",
       "      <td>478880</td>\n",
       "      <td>107</td>\n",
       "    </tr>\n",
       "    <tr>\n",
       "      <th>19</th>\n",
       "      <td>20</td>\n",
       "      <td>253493</td>\n",
       "      <td>1407</td>\n",
       "      <td>436</td>\n",
       "      <td>1110</td>\n",
       "      <td>45380</td>\n",
       "      <td>709480</td>\n",
       "      <td>457172</td>\n",
       "      <td>81</td>\n",
       "    </tr>\n",
       "    <tr>\n",
       "      <th>20</th>\n",
       "      <td>21</td>\n",
       "      <td>484365</td>\n",
       "      <td>376650</td>\n",
       "      <td>1407</td>\n",
       "      <td>436</td>\n",
       "      <td>28080</td>\n",
       "      <td>45380</td>\n",
       "      <td>709480</td>\n",
       "      <td>113</td>\n",
       "    </tr>\n",
       "    <tr>\n",
       "      <th>21</th>\n",
       "      <td>22</td>\n",
       "      <td>305989</td>\n",
       "      <td>122906</td>\n",
       "      <td>376650</td>\n",
       "      <td>1407</td>\n",
       "      <td>111520</td>\n",
       "      <td>28080</td>\n",
       "      <td>45380</td>\n",
       "      <td>97</td>\n",
       "    </tr>\n",
       "    <tr>\n",
       "      <th>22</th>\n",
       "      <td>23</td>\n",
       "      <td>315407</td>\n",
       "      <td>15138</td>\n",
       "      <td>122906</td>\n",
       "      <td>376650</td>\n",
       "      <td>267200</td>\n",
       "      <td>111520</td>\n",
       "      <td>28080</td>\n",
       "      <td>95</td>\n",
       "    </tr>\n",
       "    <tr>\n",
       "      <th>23</th>\n",
       "      <td>24</td>\n",
       "      <td>182784</td>\n",
       "      <td>5532</td>\n",
       "      <td>15138</td>\n",
       "      <td>122906</td>\n",
       "      <td>354304</td>\n",
       "      <td>267200</td>\n",
       "      <td>111520</td>\n",
       "      <td>65</td>\n",
       "    </tr>\n",
       "    <tr>\n",
       "      <th>24</th>\n",
       "      <td>25</td>\n",
       "      <td>655748</td>\n",
       "      <td>544807</td>\n",
       "      <td>5532</td>\n",
       "      <td>15138</td>\n",
       "      <td>664712</td>\n",
       "      <td>354304</td>\n",
       "      <td>267200</td>\n",
       "      <td>113</td>\n",
       "    </tr>\n",
       "    <tr>\n",
       "      <th>25</th>\n",
       "      <td>26</td>\n",
       "      <td>270483</td>\n",
       "      <td>43704</td>\n",
       "      <td>544807</td>\n",
       "      <td>5532</td>\n",
       "      <td>536824</td>\n",
       "      <td>664712</td>\n",
       "      <td>354304</td>\n",
       "      <td>98</td>\n",
       "    </tr>\n",
       "    <tr>\n",
       "      <th>26</th>\n",
       "      <td>27</td>\n",
       "      <td>365058</td>\n",
       "      <td>5740</td>\n",
       "      <td>43704</td>\n",
       "      <td>544807</td>\n",
       "      <td>551560</td>\n",
       "      <td>536824</td>\n",
       "      <td>664712</td>\n",
       "      <td>102</td>\n",
       "    </tr>\n",
       "    <tr>\n",
       "      <th>27</th>\n",
       "      <td>28</td>\n",
       "      <td>313135</td>\n",
       "      <td>9614</td>\n",
       "      <td>5740</td>\n",
       "      <td>43704</td>\n",
       "      <td>150080</td>\n",
       "      <td>551560</td>\n",
       "      <td>536824</td>\n",
       "      <td>107</td>\n",
       "    </tr>\n",
       "    <tr>\n",
       "      <th>28</th>\n",
       "      <td>29</td>\n",
       "      <td>528210</td>\n",
       "      <td>1507</td>\n",
       "      <td>9614</td>\n",
       "      <td>5740</td>\n",
       "      <td>580800</td>\n",
       "      <td>150080</td>\n",
       "      <td>551560</td>\n",
       "      <td>119</td>\n",
       "    </tr>\n",
       "    <tr>\n",
       "      <th>29</th>\n",
       "      <td>30</td>\n",
       "      <td>379856</td>\n",
       "      <td>13620</td>\n",
       "      <td>1507</td>\n",
       "      <td>9614</td>\n",
       "      <td>435080</td>\n",
       "      <td>580800</td>\n",
       "      <td>150080</td>\n",
       "      <td>104</td>\n",
       "    </tr>\n",
       "    <tr>\n",
       "      <th>30</th>\n",
       "      <td>31</td>\n",
       "      <td>472058</td>\n",
       "      <td>101179</td>\n",
       "      <td>13620</td>\n",
       "      <td>1507</td>\n",
       "      <td>361144</td>\n",
       "      <td>435080</td>\n",
       "      <td>580800</td>\n",
       "      <td>107</td>\n",
       "    </tr>\n",
       "    <tr>\n",
       "      <th>31</th>\n",
       "      <td>32</td>\n",
       "      <td>254516</td>\n",
       "      <td>80309</td>\n",
       "      <td>101179</td>\n",
       "      <td>13620</td>\n",
       "      <td>97844</td>\n",
       "      <td>361144</td>\n",
       "      <td>435080</td>\n",
       "      <td>81</td>\n",
       "    </tr>\n",
       "    <tr>\n",
       "      <th>32</th>\n",
       "      <td>33</td>\n",
       "      <td>551354</td>\n",
       "      <td>335768</td>\n",
       "      <td>80309</td>\n",
       "      <td>101179</td>\n",
       "      <td>30372</td>\n",
       "      <td>97844</td>\n",
       "      <td>361144</td>\n",
       "      <td>113</td>\n",
       "    </tr>\n",
       "    <tr>\n",
       "      <th>33</th>\n",
       "      <td>34</td>\n",
       "      <td>335826</td>\n",
       "      <td>91710</td>\n",
       "      <td>335768</td>\n",
       "      <td>80309</td>\n",
       "      <td>150324</td>\n",
       "      <td>30372</td>\n",
       "      <td>97844</td>\n",
       "      <td>97</td>\n",
       "    </tr>\n",
       "    <tr>\n",
       "      <th>34</th>\n",
       "      <td>35</td>\n",
       "      <td>320408</td>\n",
       "      <td>9856</td>\n",
       "      <td>91710</td>\n",
       "      <td>335768</td>\n",
       "      <td>293044</td>\n",
       "      <td>150324</td>\n",
       "      <td>30372</td>\n",
       "      <td>95</td>\n",
       "    </tr>\n",
       "    <tr>\n",
       "      <th>35</th>\n",
       "      <td>36</td>\n",
       "      <td>276901</td>\n",
       "      <td>107172</td>\n",
       "      <td>9856</td>\n",
       "      <td>91710</td>\n",
       "      <td>162788</td>\n",
       "      <td>293044</td>\n",
       "      <td>150324</td>\n",
       "      <td>65</td>\n",
       "    </tr>\n",
       "    <tr>\n",
       "      <th>36</th>\n",
       "      <td>37</td>\n",
       "      <td>455136</td>\n",
       "      <td>299781</td>\n",
       "      <td>107172</td>\n",
       "      <td>9856</td>\n",
       "      <td>32532</td>\n",
       "      <td>162788</td>\n",
       "      <td>293044</td>\n",
       "      <td>113</td>\n",
       "    </tr>\n",
       "    <tr>\n",
       "      <th>37</th>\n",
       "      <td>38</td>\n",
       "      <td>247570</td>\n",
       "      <td>21218</td>\n",
       "      <td>299781</td>\n",
       "      <td>107172</td>\n",
       "      <td>23468</td>\n",
       "      <td>32532</td>\n",
       "      <td>162788</td>\n",
       "      <td>98</td>\n",
       "    </tr>\n",
       "    <tr>\n",
       "      <th>38</th>\n",
       "      <td>39</td>\n",
       "      <td>622204</td>\n",
       "      <td>157</td>\n",
       "      <td>21218</td>\n",
       "      <td>299781</td>\n",
       "      <td>4503456</td>\n",
       "      <td>23468</td>\n",
       "      <td>32532</td>\n",
       "      <td>102</td>\n",
       "    </tr>\n",
       "    <tr>\n",
       "      <th>39</th>\n",
       "      <td>40</td>\n",
       "      <td>429331</td>\n",
       "      <td>12961</td>\n",
       "      <td>157</td>\n",
       "      <td>21218</td>\n",
       "      <td>500904</td>\n",
       "      <td>4503456</td>\n",
       "      <td>23468</td>\n",
       "      <td>107</td>\n",
       "    </tr>\n",
       "    <tr>\n",
       "      <th>40</th>\n",
       "      <td>41</td>\n",
       "      <td>453156</td>\n",
       "      <td>333529</td>\n",
       "      <td>12961</td>\n",
       "      <td>157</td>\n",
       "      <td>0</td>\n",
       "      <td>500904</td>\n",
       "      <td>4503456</td>\n",
       "      <td>119</td>\n",
       "    </tr>\n",
       "    <tr>\n",
       "      <th>41</th>\n",
       "      <td>42</td>\n",
       "      <td>320103</td>\n",
       "      <td>178105</td>\n",
       "      <td>333529</td>\n",
       "      <td>12961</td>\n",
       "      <td>0</td>\n",
       "      <td>0</td>\n",
       "      <td>500904</td>\n",
       "      <td>104</td>\n",
       "    </tr>\n",
       "    <tr>\n",
       "      <th>42</th>\n",
       "      <td>43</td>\n",
       "      <td>451779</td>\n",
       "      <td>315564</td>\n",
       "      <td>178105</td>\n",
       "      <td>333529</td>\n",
       "      <td>46104</td>\n",
       "      <td>0</td>\n",
       "      <td>0</td>\n",
       "      <td>107</td>\n",
       "    </tr>\n",
       "    <tr>\n",
       "      <th>43</th>\n",
       "      <td>44</td>\n",
       "      <td>249482</td>\n",
       "      <td>80206</td>\n",
       "      <td>315564</td>\n",
       "      <td>178105</td>\n",
       "      <td>92252</td>\n",
       "      <td>46104</td>\n",
       "      <td>0</td>\n",
       "      <td>81</td>\n",
       "    </tr>\n",
       "    <tr>\n",
       "      <th>44</th>\n",
       "      <td>45</td>\n",
       "      <td>744583</td>\n",
       "      <td>5940</td>\n",
       "      <td>80206</td>\n",
       "      <td>315564</td>\n",
       "      <td>4869952</td>\n",
       "      <td>92252</td>\n",
       "      <td>46104</td>\n",
       "      <td>113</td>\n",
       "    </tr>\n",
       "    <tr>\n",
       "      <th>45</th>\n",
       "      <td>46</td>\n",
       "      <td>421186</td>\n",
       "      <td>36819</td>\n",
       "      <td>5940</td>\n",
       "      <td>80206</td>\n",
       "      <td>376556</td>\n",
       "      <td>4869952</td>\n",
       "      <td>92252</td>\n",
       "      <td>97</td>\n",
       "    </tr>\n",
       "    <tr>\n",
       "      <th>46</th>\n",
       "      <td>47</td>\n",
       "      <td>397367</td>\n",
       "      <td>234562</td>\n",
       "      <td>36819</td>\n",
       "      <td>5940</td>\n",
       "      <td>376556</td>\n",
       "      <td>376556</td>\n",
       "      <td>4869952</td>\n",
       "      <td>95</td>\n",
       "    </tr>\n",
       "    <tr>\n",
       "      <th>47</th>\n",
       "      <td>48</td>\n",
       "      <td>269096</td>\n",
       "      <td>71881</td>\n",
       "      <td>234562</td>\n",
       "      <td>36819</td>\n",
       "      <td>552536</td>\n",
       "      <td>376556</td>\n",
       "      <td>376556</td>\n",
       "      <td>65</td>\n",
       "    </tr>\n",
       "  </tbody>\n",
       "</table>\n",
       "</div>"
      ],
      "text/plain": [
       "    TIME   Sales      CP  CP(t-1)  CP(t-2)       DA  DA(t-1)  DA(t-2)  \\\n",
       "0      1  425075   75253        0        0   457732   352872   304004   \n",
       "1      2  315305   15036    75253        0   254396   457732   352872   \n",
       "2      3  367286  134440    15036    75253   259952   254396   457732   \n",
       "3      4  429432  119740   134440    15036   267368   259952   254396   \n",
       "4      5  347874  135590   119740   134440   158504   267368   259952   \n",
       "5      6  435529  189636   135590   119740   430012   158504   267368   \n",
       "6      7  299403    9308   189636   135590   388516   430012   158504   \n",
       "7      8  296505   41099     9308   189636   225616   388516   430012   \n",
       "8      9  426701    9391    41099     9308  1042304   225616   388516   \n",
       "9     10  329722     942     9391    41099   974092  1042304   225616   \n",
       "10    11  281783    1818      942     9391   301892   974092  1042304   \n",
       "11    12  166391     672     1818      942    76148   301892   974092   \n",
       "12    13  629404  548704      672     1818        0    76148   301892   \n",
       "13    14  263467   52819   548704      672   315196        0    76148   \n",
       "14    15  398320    2793    52819   548704   703624   315196        0   \n",
       "15    16  376569   27749     2793    52819   198464   703624   315196   \n",
       "16    17  444404   21887    27749     2793   478880   198464   703624   \n",
       "17    18  386986    1110    21887    27749   457172   478880   198464   \n",
       "18    19  414314     436     1110    21887   709480   457172   478880   \n",
       "19    20  253493    1407      436     1110    45380   709480   457172   \n",
       "20    21  484365  376650     1407      436    28080    45380   709480   \n",
       "21    22  305989  122906   376650     1407   111520    28080    45380   \n",
       "22    23  315407   15138   122906   376650   267200   111520    28080   \n",
       "23    24  182784    5532    15138   122906   354304   267200   111520   \n",
       "24    25  655748  544807     5532    15138   664712   354304   267200   \n",
       "25    26  270483   43704   544807     5532   536824   664712   354304   \n",
       "26    27  365058    5740    43704   544807   551560   536824   664712   \n",
       "27    28  313135    9614     5740    43704   150080   551560   536824   \n",
       "28    29  528210    1507     9614     5740   580800   150080   551560   \n",
       "29    30  379856   13620     1507     9614   435080   580800   150080   \n",
       "30    31  472058  101179    13620     1507   361144   435080   580800   \n",
       "31    32  254516   80309   101179    13620    97844   361144   435080   \n",
       "32    33  551354  335768    80309   101179    30372    97844   361144   \n",
       "33    34  335826   91710   335768    80309   150324    30372    97844   \n",
       "34    35  320408    9856    91710   335768   293044   150324    30372   \n",
       "35    36  276901  107172     9856    91710   162788   293044   150324   \n",
       "36    37  455136  299781   107172     9856    32532   162788   293044   \n",
       "37    38  247570   21218   299781   107172    23468    32532   162788   \n",
       "38    39  622204     157    21218   299781  4503456    23468    32532   \n",
       "39    40  429331   12961      157    21218   500904  4503456    23468   \n",
       "40    41  453156  333529    12961      157        0   500904  4503456   \n",
       "41    42  320103  178105   333529    12961        0        0   500904   \n",
       "42    43  451779  315564   178105   333529    46104        0        0   \n",
       "43    44  249482   80206   315564   178105    92252    46104        0   \n",
       "44    45  744583    5940    80206   315564  4869952    92252    46104   \n",
       "45    46  421186   36819     5940    80206   376556  4869952    92252   \n",
       "46    47  397367  234562    36819     5940   376556   376556  4869952   \n",
       "47    48  269096   71881   234562    36819   552536   376556   376556   \n",
       "\n",
       "    SeasIndx  \n",
       "0        113  \n",
       "1         98  \n",
       "2        102  \n",
       "3        107  \n",
       "4        119  \n",
       "5        104  \n",
       "6        107  \n",
       "7         81  \n",
       "8        113  \n",
       "9         97  \n",
       "10        95  \n",
       "11        65  \n",
       "12       113  \n",
       "13        98  \n",
       "14       102  \n",
       "15       107  \n",
       "16       119  \n",
       "17       104  \n",
       "18       107  \n",
       "19        81  \n",
       "20       113  \n",
       "21        97  \n",
       "22        95  \n",
       "23        65  \n",
       "24       113  \n",
       "25        98  \n",
       "26       102  \n",
       "27       107  \n",
       "28       119  \n",
       "29       104  \n",
       "30       107  \n",
       "31        81  \n",
       "32       113  \n",
       "33        97  \n",
       "34        95  \n",
       "35        65  \n",
       "36       113  \n",
       "37        98  \n",
       "38       102  \n",
       "39       107  \n",
       "40       119  \n",
       "41       104  \n",
       "42       107  \n",
       "43        81  \n",
       "44       113  \n",
       "45        97  \n",
       "46        95  \n",
       "47        65  "
      ]
     },
     "execution_count": 27,
     "metadata": {},
     "output_type": "execute_result"
    }
   ],
   "source": [
    "df"
   ]
  },
  {
   "cell_type": "markdown",
   "metadata": {},
   "source": [
    "## Question 1"
   ]
  },
  {
   "cell_type": "code",
   "execution_count": 46,
   "metadata": {},
   "outputs": [],
   "source": [
    "def mult_lin_reg(y, x): # least square method\n",
    "    model = OLS(y, x)\n",
    "    result = model.fit()\n",
    "    return print(result.summary())"
   ]
  },
  {
   "cell_type": "markdown",
   "metadata": {},
   "source": [
    "##### CP & DA"
   ]
  },
  {
   "cell_type": "code",
   "execution_count": 18,
   "metadata": {},
   "outputs": [],
   "source": [
    "y_CP_DA = df.Sales"
   ]
  },
  {
   "cell_type": "code",
   "execution_count": 19,
   "metadata": {},
   "outputs": [],
   "source": [
    "x_CP_DA = df[['CP','DA']]"
   ]
  },
  {
   "cell_type": "code",
   "execution_count": 47,
   "metadata": {},
   "outputs": [
    {
     "name": "stdout",
     "output_type": "stream",
     "text": [
      "                            OLS Regression Results                            \n",
      "==============================================================================\n",
      "Dep. Variable:                  Sales   R-squared:                       0.739\n",
      "Model:                            OLS   Adj. R-squared:                  0.728\n",
      "Method:                 Least Squares   F-statistic:                     65.14\n",
      "Date:                Fri, 16 Nov 2018   Prob (F-statistic):           3.81e-14\n",
      "Time:                        11:22:17   Log-Likelihood:                -655.13\n",
      "No. Observations:                  48   AIC:                             1314.\n",
      "Df Residuals:                      46   BIC:                             1318.\n",
      "Df Model:                           2                                         \n",
      "Covariance Type:            nonrobust                                         \n",
      "==============================================================================\n",
      "                 coef    std err          t      P>|t|      [0.025      0.975]\n",
      "------------------------------------------------------------------------------\n",
      "CP             1.4497      0.178      8.162      0.000       1.092       1.807\n",
      "DA             0.2047      0.029      6.970      0.000       0.146       0.264\n",
      "==============================================================================\n",
      "Omnibus:                       11.909   Durbin-Watson:                   1.092\n",
      "Prob(Omnibus):                  0.003   Jarque-Bera (JB):               11.910\n",
      "Skew:                          -1.109   Prob(JB):                      0.00259\n",
      "Kurtosis:                       4.018   Cond. No.                         6.09\n",
      "==============================================================================\n",
      "\n",
      "Warnings:\n",
      "[1] Standard Errors assume that the covariance matrix of the errors is correctly specified.\n"
     ]
    }
   ],
   "source": [
    "mult_lin_reg(y_CP_DA,x_CP_DA)"
   ]
  },
  {
   "cell_type": "markdown",
   "metadata": {},
   "source": [
    "##### CP & DA(t-1)"
   ]
  },
  {
   "cell_type": "code",
   "execution_count": 22,
   "metadata": {},
   "outputs": [],
   "source": [
    "y_CP_DA_t_1 = df.Sales[1:]"
   ]
  },
  {
   "cell_type": "code",
   "execution_count": 23,
   "metadata": {},
   "outputs": [],
   "source": [
    "x_CP_DA_t_1 = df[['CP','DA(t-1)']][1:]"
   ]
  },
  {
   "cell_type": "code",
   "execution_count": 48,
   "metadata": {
    "collapsed": true
   },
   "outputs": [
    {
     "name": "stdout",
     "output_type": "stream",
     "text": [
      "                            OLS Regression Results                            \n",
      "==============================================================================\n",
      "Dep. Variable:                  Sales   R-squared:                       0.593\n",
      "Model:                            OLS   Adj. R-squared:                  0.575\n",
      "Method:                 Least Squares   F-statistic:                     32.85\n",
      "Date:                Fri, 16 Nov 2018   Prob (F-statistic):           1.60e-09\n",
      "Time:                        11:23:07   Log-Likelihood:                -651.84\n",
      "No. Observations:                  47   AIC:                             1308.\n",
      "Df Residuals:                      45   BIC:                             1311.\n",
      "Df Model:                           2                                         \n",
      "Covariance Type:            nonrobust                                         \n",
      "==============================================================================\n",
      "                 coef    std err          t      P>|t|      [0.025      0.975]\n",
      "------------------------------------------------------------------------------\n",
      "CP             1.4570      0.223      6.543      0.000       1.008       1.906\n",
      "DA(t-1)        0.1401      0.037      3.801      0.000       0.066       0.214\n",
      "==============================================================================\n",
      "Omnibus:                        2.996   Durbin-Watson:                   1.169\n",
      "Prob(Omnibus):                  0.224   Jarque-Bera (JB):                2.285\n",
      "Skew:                           0.150   Prob(JB):                        0.319\n",
      "Kurtosis:                       4.038   Cond. No.                         6.11\n",
      "==============================================================================\n",
      "\n",
      "Warnings:\n",
      "[1] Standard Errors assume that the covariance matrix of the errors is correctly specified.\n"
     ]
    }
   ],
   "source": [
    "mult_lin_reg(y_CP_DA_t_1,x_CP_DA_t_1)"
   ]
  },
  {
   "cell_type": "markdown",
   "metadata": {},
   "source": [
    "##### CP & DA(t-2)"
   ]
  },
  {
   "cell_type": "code",
   "execution_count": 28,
   "metadata": {},
   "outputs": [],
   "source": [
    "y_CP_DA_t_2 = df.Sales[2:]"
   ]
  },
  {
   "cell_type": "code",
   "execution_count": 65,
   "metadata": {},
   "outputs": [],
   "source": [
    "x_CP_DA_t_2 = df[['CP','DA(t-2)']][2:]"
   ]
  },
  {
   "cell_type": "code",
   "execution_count": 49,
   "metadata": {
    "collapsed": true
   },
   "outputs": [
    {
     "name": "stdout",
     "output_type": "stream",
     "text": [
      "                            OLS Regression Results                            \n",
      "==============================================================================\n",
      "Dep. Variable:                  Sales   R-squared:                       0.493\n",
      "Model:                            OLS   Adj. R-squared:                  0.470\n",
      "Method:                 Least Squares   F-statistic:                     21.42\n",
      "Date:                Fri, 16 Nov 2018   Prob (F-statistic):           3.19e-07\n",
      "Time:                        11:23:33   Log-Likelihood:                -643.23\n",
      "No. Observations:                  46   AIC:                             1290.\n",
      "Df Residuals:                      44   BIC:                             1294.\n",
      "Df Model:                           2                                         \n",
      "Covariance Type:            nonrobust                                         \n",
      "==============================================================================\n",
      "                 coef    std err          t      P>|t|      [0.025      0.975]\n",
      "------------------------------------------------------------------------------\n",
      "CP             1.3788      0.279      4.933      0.000       0.816       1.942\n",
      "DA(t-2)        0.0697      0.046      1.504      0.140      -0.024       0.163\n",
      "==============================================================================\n",
      "Omnibus:                        3.060   Durbin-Watson:                   0.764\n",
      "Prob(Omnibus):                  0.217   Jarque-Bera (JB):                2.183\n",
      "Skew:                          -0.242   Prob(JB):                        0.336\n",
      "Kurtosis:                       3.951   Cond. No.                         6.86\n",
      "==============================================================================\n",
      "\n",
      "Warnings:\n",
      "[1] Standard Errors assume that the covariance matrix of the errors is correctly specified.\n"
     ]
    }
   ],
   "source": [
    "mult_lin_reg(y_CP_DA_t_2,x_CP_DA_t_2)"
   ]
  },
  {
   "cell_type": "markdown",
   "metadata": {},
   "source": [
    "#### DA & CP(t-1)"
   ]
  },
  {
   "cell_type": "code",
   "execution_count": 32,
   "metadata": {},
   "outputs": [],
   "source": [
    "y_DA_CP_t_1 = df.Sales[1:]"
   ]
  },
  {
   "cell_type": "code",
   "execution_count": 33,
   "metadata": {},
   "outputs": [],
   "source": [
    "x_DA_CP_t_1 = df[['CP(t-1)','DA']][1:]"
   ]
  },
  {
   "cell_type": "code",
   "execution_count": 50,
   "metadata": {
    "collapsed": true
   },
   "outputs": [
    {
     "name": "stdout",
     "output_type": "stream",
     "text": [
      "                            OLS Regression Results                            \n",
      "==============================================================================\n",
      "Dep. Variable:                  Sales   R-squared:                       0.495\n",
      "Model:                            OLS   Adj. R-squared:                  0.472\n",
      "Method:                 Least Squares   F-statistic:                     22.02\n",
      "Date:                Fri, 16 Nov 2018   Prob (F-statistic):           2.14e-07\n",
      "Time:                        11:24:15   Log-Likelihood:                -656.95\n",
      "No. Observations:                  47   AIC:                             1318.\n",
      "Df Residuals:                      45   BIC:                             1322.\n",
      "Df Model:                           2                                         \n",
      "Covariance Type:            nonrobust                                         \n",
      "==============================================================================\n",
      "                 coef    std err          t      P>|t|      [0.025      0.975]\n",
      "------------------------------------------------------------------------------\n",
      "CP(t-1)        0.8703      0.251      3.472      0.001       0.365       1.375\n",
      "DA             0.2012      0.041      4.855      0.000       0.118       0.285\n",
      "==============================================================================\n",
      "Omnibus:                        6.160   Durbin-Watson:                   1.304\n",
      "Prob(Omnibus):                  0.046   Jarque-Bera (JB):                5.048\n",
      "Skew:                          -0.755   Prob(JB):                       0.0801\n",
      "Kurtosis:                       3.544   Cond. No.                         6.18\n",
      "==============================================================================\n",
      "\n",
      "Warnings:\n",
      "[1] Standard Errors assume that the covariance matrix of the errors is correctly specified.\n"
     ]
    }
   ],
   "source": [
    "mult_lin_reg(y_DA_CP_t_1,x_DA_CP_t_1)"
   ]
  },
  {
   "cell_type": "markdown",
   "metadata": {},
   "source": [
    "#### DA & CP(t-2)"
   ]
  },
  {
   "cell_type": "code",
   "execution_count": 36,
   "metadata": {},
   "outputs": [],
   "source": [
    "y_DA_CP_t_2 = df.Sales[2:]"
   ]
  },
  {
   "cell_type": "code",
   "execution_count": 37,
   "metadata": {},
   "outputs": [],
   "source": [
    "x_DA_CP_t_2 = df[['CP(t-2)','DA']][2:]"
   ]
  },
  {
   "cell_type": "code",
   "execution_count": 51,
   "metadata": {
    "collapsed": true
   },
   "outputs": [
    {
     "name": "stdout",
     "output_type": "stream",
     "text": [
      "                            OLS Regression Results                            \n",
      "==============================================================================\n",
      "Dep. Variable:                  Sales   R-squared:                       0.455\n",
      "Model:                            OLS   Adj. R-squared:                  0.430\n",
      "Method:                 Least Squares   F-statistic:                     18.35\n",
      "Date:                Fri, 16 Nov 2018   Prob (F-statistic):           1.60e-06\n",
      "Time:                        11:24:41   Log-Likelihood:                -644.91\n",
      "No. Observations:                  46   AIC:                             1294.\n",
      "Df Residuals:                      44   BIC:                             1297.\n",
      "Df Model:                           2                                         \n",
      "Covariance Type:            nonrobust                                         \n",
      "==============================================================================\n",
      "                 coef    std err          t      P>|t|      [0.025      0.975]\n",
      "------------------------------------------------------------------------------\n",
      "CP(t-2)        0.8444      0.305      2.771      0.008       0.230       1.459\n",
      "DA             0.1583      0.049      3.203      0.003       0.059       0.258\n",
      "==============================================================================\n",
      "Omnibus:                        8.043   Durbin-Watson:                   0.878\n",
      "Prob(Omnibus):                  0.018   Jarque-Bera (JB):                7.011\n",
      "Skew:                          -0.828   Prob(JB):                       0.0300\n",
      "Kurtosis:                       3.956   Cond. No.                         7.23\n",
      "==============================================================================\n",
      "\n",
      "Warnings:\n",
      "[1] Standard Errors assume that the covariance matrix of the errors is correctly specified.\n"
     ]
    }
   ],
   "source": [
    "mult_lin_reg(y_DA_CP_t_2,x_DA_CP_t_2)"
   ]
  },
  {
   "cell_type": "markdown",
   "metadata": {},
   "source": [
    "#### DA(t-1) & CP(t-1)"
   ]
  },
  {
   "cell_type": "code",
   "execution_count": 40,
   "metadata": {},
   "outputs": [],
   "source": [
    "y_DA_t_1_CP_t_1 = df.Sales[1:]"
   ]
  },
  {
   "cell_type": "code",
   "execution_count": 41,
   "metadata": {},
   "outputs": [],
   "source": [
    "x_DA_t_1_CP_t_1 = df[['CP(t-1)','DA(t-1)']][1:]"
   ]
  },
  {
   "cell_type": "code",
   "execution_count": 52,
   "metadata": {
    "collapsed": true
   },
   "outputs": [
    {
     "name": "stdout",
     "output_type": "stream",
     "text": [
      "                            OLS Regression Results                            \n",
      "==============================================================================\n",
      "Dep. Variable:                  Sales   R-squared:                       0.393\n",
      "Model:                            OLS   Adj. R-squared:                  0.366\n",
      "Method:                 Least Squares   F-statistic:                     14.55\n",
      "Date:                Fri, 16 Nov 2018   Prob (F-statistic):           1.34e-05\n",
      "Time:                        11:25:27   Log-Likelihood:                -661.28\n",
      "No. Observations:                  47   AIC:                             1327.\n",
      "Df Residuals:                      45   BIC:                             1330.\n",
      "Df Model:                           2                                         \n",
      "Covariance Type:            nonrobust                                         \n",
      "==============================================================================\n",
      "                 coef    std err          t      P>|t|      [0.025      0.975]\n",
      "------------------------------------------------------------------------------\n",
      "CP(t-1)        1.0059      0.271      3.710      0.001       0.460       1.552\n",
      "DA(t-1)        0.1558      0.045      3.471      0.001       0.065       0.246\n",
      "==============================================================================\n",
      "Omnibus:                        2.682   Durbin-Watson:                   1.841\n",
      "Prob(Omnibus):                  0.262   Jarque-Bera (JB):                1.938\n",
      "Skew:                          -0.489   Prob(JB):                        0.379\n",
      "Kurtosis:                       3.177   Cond. No.                         6.08\n",
      "==============================================================================\n",
      "\n",
      "Warnings:\n",
      "[1] Standard Errors assume that the covariance matrix of the errors is correctly specified.\n"
     ]
    }
   ],
   "source": [
    "mult_lin_reg(y_DA_t_1_CP_t_1,x_DA_t_1_CP_t_1)"
   ]
  },
  {
   "cell_type": "markdown",
   "metadata": {},
   "source": [
    "#### DA(t-1) & CP(t-2)"
   ]
  },
  {
   "cell_type": "code",
   "execution_count": 53,
   "metadata": {},
   "outputs": [],
   "source": [
    "y_DA_t_1_CP_t_2 = df.Sales[2:]"
   ]
  },
  {
   "cell_type": "code",
   "execution_count": 55,
   "metadata": {},
   "outputs": [],
   "source": [
    "x_DA_t_1_CP_t_2 = df[['CP(t-2)','DA(t-1)']][2:]"
   ]
  },
  {
   "cell_type": "code",
   "execution_count": 56,
   "metadata": {
    "collapsed": true
   },
   "outputs": [
    {
     "name": "stdout",
     "output_type": "stream",
     "text": [
      "                            OLS Regression Results                            \n",
      "==============================================================================\n",
      "Dep. Variable:                  Sales   R-squared:                       0.450\n",
      "Model:                            OLS   Adj. R-squared:                  0.425\n",
      "Method:                 Least Squares   F-statistic:                     18.02\n",
      "Date:                Fri, 16 Nov 2018   Prob (F-statistic):           1.92e-06\n",
      "Time:                        11:26:21   Log-Likelihood:                -645.10\n",
      "No. Observations:                  46   AIC:                             1294.\n",
      "Df Residuals:                      44   BIC:                             1298.\n",
      "Df Model:                           2                                         \n",
      "Covariance Type:            nonrobust                                         \n",
      "==============================================================================\n",
      "                 coef    std err          t      P>|t|      [0.025      0.975]\n",
      "------------------------------------------------------------------------------\n",
      "CP(t-2)        1.1880      0.267      4.443      0.000       0.649       1.727\n",
      "DA(t-1)        0.1362      0.043      3.133      0.003       0.049       0.224\n",
      "==============================================================================\n",
      "Omnibus:                        4.674   Durbin-Watson:                   1.266\n",
      "Prob(Omnibus):                  0.097   Jarque-Bera (JB):                3.725\n",
      "Skew:                          -0.682   Prob(JB):                        0.155\n",
      "Kurtosis:                       3.290   Cond. No.                         6.27\n",
      "==============================================================================\n",
      "\n",
      "Warnings:\n",
      "[1] Standard Errors assume that the covariance matrix of the errors is correctly specified.\n"
     ]
    }
   ],
   "source": [
    "mult_lin_reg(y_DA_t_1_CP_t_2,x_DA_t_1_CP_t_2)"
   ]
  },
  {
   "cell_type": "markdown",
   "metadata": {},
   "source": [
    "#### DA(t-2) & CP(t-1)"
   ]
  },
  {
   "cell_type": "code",
   "execution_count": 58,
   "metadata": {},
   "outputs": [],
   "source": [
    "y_DA_t_2_CP_t_1 = df.Sales[2:]"
   ]
  },
  {
   "cell_type": "code",
   "execution_count": 59,
   "metadata": {},
   "outputs": [],
   "source": [
    "x_DA_t_2_CP_t_1 = df[['CP(t-1)','DA(t-2)']][2:]"
   ]
  },
  {
   "cell_type": "code",
   "execution_count": 60,
   "metadata": {
    "collapsed": true
   },
   "outputs": [
    {
     "name": "stdout",
     "output_type": "stream",
     "text": [
      "                            OLS Regression Results                            \n",
      "==============================================================================\n",
      "Dep. Variable:                  Sales   R-squared:                       0.386\n",
      "Model:                            OLS   Adj. R-squared:                  0.358\n",
      "Method:                 Least Squares   F-statistic:                     13.83\n",
      "Date:                Fri, 16 Nov 2018   Prob (F-statistic):           2.19e-05\n",
      "Time:                        11:27:56   Log-Likelihood:                -647.65\n",
      "No. Observations:                  46   AIC:                             1299.\n",
      "Df Residuals:                      44   BIC:                             1303.\n",
      "Df Model:                           2                                         \n",
      "Covariance Type:            nonrobust                                         \n",
      "==============================================================================\n",
      "                 coef    std err          t      P>|t|      [0.025      0.975]\n",
      "------------------------------------------------------------------------------\n",
      "CP(t-1)        0.9692      0.275      3.520      0.001       0.414       1.524\n",
      "DA(t-2)        0.1537      0.046      3.375      0.002       0.062       0.246\n",
      "==============================================================================\n",
      "Omnibus:                        3.095   Durbin-Watson:                   1.399\n",
      "Prob(Omnibus):                  0.213   Jarque-Bera (JB):                2.415\n",
      "Skew:                          -0.559   Prob(JB):                        0.299\n",
      "Kurtosis:                       3.094   Cond. No.                         6.11\n",
      "==============================================================================\n",
      "\n",
      "Warnings:\n",
      "[1] Standard Errors assume that the covariance matrix of the errors is correctly specified.\n"
     ]
    }
   ],
   "source": [
    "mult_lin_reg(y_DA_t_2_CP_t_1,x_DA_t_2_CP_t_1)"
   ]
  },
  {
   "cell_type": "markdown",
   "metadata": {},
   "source": [
    "#### DA(t-2) & CP((t-2)"
   ]
  },
  {
   "cell_type": "code",
   "execution_count": 62,
   "metadata": {},
   "outputs": [],
   "source": [
    "y_DA_t_2_CP_t_2 = df.Sales[2:]"
   ]
  },
  {
   "cell_type": "code",
   "execution_count": 63,
   "metadata": {},
   "outputs": [],
   "source": [
    "x_DA_t_2_CP_t_2 = df[['CP(t-2)','DA(t-2)']][2:]"
   ]
  },
  {
   "cell_type": "code",
   "execution_count": 66,
   "metadata": {
    "collapsed": true
   },
   "outputs": [
    {
     "name": "stdout",
     "output_type": "stream",
     "text": [
      "                            OLS Regression Results                            \n",
      "==============================================================================\n",
      "Dep. Variable:                  Sales   R-squared:                       0.491\n",
      "Model:                            OLS   Adj. R-squared:                  0.468\n",
      "Method:                 Least Squares   F-statistic:                     21.21\n",
      "Date:                Fri, 16 Nov 2018   Prob (F-statistic):           3.56e-07\n",
      "Time:                        11:32:27   Log-Likelihood:                -643.34\n",
      "No. Observations:                  46   AIC:                             1291.\n",
      "Df Residuals:                      44   BIC:                             1294.\n",
      "Df Model:                           2                                         \n",
      "Covariance Type:            nonrobust                                         \n",
      "==============================================================================\n",
      "                 coef    std err          t      P>|t|      [0.025      0.975]\n",
      "------------------------------------------------------------------------------\n",
      "CP(t-2)        1.2453      0.254      4.900      0.000       0.733       1.758\n",
      "DA(t-2)        0.1551      0.041      3.755      0.001       0.072       0.238\n",
      "==============================================================================\n",
      "Omnibus:                        7.342   Durbin-Watson:                   1.296\n",
      "Prob(Omnibus):                  0.025   Jarque-Bera (JB):                6.293\n",
      "Skew:                          -0.854   Prob(JB):                       0.0430\n",
      "Kurtosis:                       3.606   Cond. No.                         6.19\n",
      "==============================================================================\n",
      "\n",
      "Warnings:\n",
      "[1] Standard Errors assume that the covariance matrix of the errors is correctly specified.\n"
     ]
    }
   ],
   "source": [
    "mult_lin_reg(y_DA_t_2_CP_t_2,x_DA_t_2_CP_t_2)"
   ]
  },
  {
   "cell_type": "markdown",
   "metadata": {},
   "source": [
    "### Answer\n",
    "CP & DA multiple linear regression display the best R-squared (ajusted or not), the smallest P-values & also the smallest IC"
   ]
  },
  {
   "cell_type": "markdown",
   "metadata": {},
   "source": [
    "## Question 2\n",
    "\n",
    "Sales = 11.909 + 1.4497 x CP + 0.2047 x DA"
   ]
  },
  {
   "cell_type": "markdown",
   "metadata": {},
   "source": [
    "## Question 3"
   ]
  },
  {
   "cell_type": "code",
   "execution_count": 69,
   "metadata": {},
   "outputs": [],
   "source": [
    "def sales_estimation(CP, DA, const, coeff_CP, coeff_DA):\n",
    "    return const + coeff_CP * CP + coeff_DA * DA"
   ]
  },
  {
   "cell_type": "code",
   "execution_count": 71,
   "metadata": {},
   "outputs": [],
   "source": [
    "cste = 11.909\n",
    "\n",
    "coeff_CP_point = 1.4497\n",
    "coeff_CP_min = 1.092\n",
    "coeff_CP_max = 1.807\n",
    "CP_case = 100000\n",
    "\n",
    "coeff_DA_point = 0.2047     \n",
    "coeff_DA_min = 0.146\n",
    "coeff_DA_max = 0.264\n",
    "DA_case = 500000"
   ]
  },
  {
   "cell_type": "code",
   "execution_count": 79,
   "metadata": {},
   "outputs": [
    {
     "name": "stdout",
     "output_type": "stream",
     "text": [
      "sales estimation is equal to $ 247331.909 with an IC [ 182211.909 , 312711.909 ] for 5% error\n"
     ]
    }
   ],
   "source": [
    "sales_point = sales_estimation(CP_case, DA_case, cste, coeff_CP_point, coeff_DA_point)\n",
    "sales_min = sales_estimation(CP_case, DA_case, cste, coeff_CP_min, coeff_DA_min)\n",
    "sales_max = sales_estimation(CP_case, DA_case, cste, coeff_CP_max, coeff_DA_max)\n",
    "\n",
    "print('sales estimation is equal to $', sales_point, 'with an IC [',sales_min,',',sales_max,'] for 5% error')"
   ]
  },
  {
   "cell_type": "markdown",
   "metadata": {},
   "source": [
    "## Question 4\n",
    "???"
   ]
  }
 ],
 "metadata": {
  "kernelspec": {
   "display_name": "Python 3",
   "language": "python",
   "name": "python3"
  },
  "language_info": {
   "codemirror_mode": {
    "name": "ipython",
    "version": 3
   },
   "file_extension": ".py",
   "mimetype": "text/x-python",
   "name": "python",
   "nbconvert_exporter": "python",
   "pygments_lexer": "ipython3",
   "version": "3.7.0"
  }
 },
 "nbformat": 4,
 "nbformat_minor": 2
}
